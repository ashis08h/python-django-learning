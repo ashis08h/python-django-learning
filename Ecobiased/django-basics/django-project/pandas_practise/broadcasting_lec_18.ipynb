{
 "cells": [
  {
   "cell_type": "code",
   "execution_count": 1,
   "id": "35f57e98-df12-49d0-b253-779539a7ce66",
   "metadata": {},
   "outputs": [
    {
     "name": "stderr",
     "output_type": "stream",
     "text": [
      "C:\\Users\\user\\AppData\\Local\\Temp\\ipykernel_20872\\4080736814.py:1: DeprecationWarning: \n",
      "Pyarrow will become a required dependency of pandas in the next major release of pandas (pandas 3.0),\n",
      "(to allow more performant data types, such as the Arrow string type, and better interoperability with other libraries)\n",
      "but was not found to be installed on your system.\n",
      "If this would cause problems for you,\n",
      "please provide us feedback at https://github.com/pandas-dev/pandas/issues/54466\n",
      "        \n",
      "  import pandas as pd\n"
     ]
    }
   ],
   "source": [
    "import pandas as pd"
   ]
  },
  {
   "cell_type": "code",
   "execution_count": 2,
   "id": "ad664b40-07c4-4c0b-be3f-7acc68794f56",
   "metadata": {},
   "outputs": [],
   "source": [
    "google = pd.read_csv(\"input_file/google_stock_price.csv\", usecols=[\"Price\"]).squeeze()"
   ]
  },
  {
   "cell_type": "code",
   "execution_count": 3,
   "id": "cf9a4db7-fdbb-4b70-9e10-97377cfac6e9",
   "metadata": {},
   "outputs": [
    {
     "data": {
      "text/plain": [
       "0    2.490664\n",
       "1    2.515820\n",
       "2    2.758411\n",
       "3    2.770615\n",
       "4    2.614201\n",
       "Name: Price, dtype: float64"
      ]
     },
     "execution_count": 3,
     "metadata": {},
     "output_type": "execute_result"
    }
   ],
   "source": [
    "google.head()"
   ]
  },
  {
   "cell_type": "code",
   "execution_count": 4,
   "id": "75992de6-c98c-4045-b2b2-663f280cc79c",
   "metadata": {},
   "outputs": [
    {
     "data": {
      "text/plain": [
       "0        12.490664\n",
       "1        12.515820\n",
       "2        12.758411\n",
       "3        12.770615\n",
       "4        12.614201\n",
       "           ...    \n",
       "4788    142.080002\n",
       "4789    142.998001\n",
       "4790    145.570007\n",
       "4791    147.050003\n",
       "4792    148.429993\n",
       "Name: Price, Length: 4793, dtype: float64"
      ]
     },
     "execution_count": 4,
     "metadata": {},
     "output_type": "execute_result"
    }
   ],
   "source": [
    "google.add(10)"
   ]
  },
  {
   "cell_type": "code",
   "execution_count": 5,
   "id": "be8db8ce-70e9-4b19-91cb-2b5173055beb",
   "metadata": {},
   "outputs": [
    {
     "data": {
      "text/plain": [
       "0        12.490664\n",
       "1        12.515820\n",
       "2        12.758411\n",
       "3        12.770615\n",
       "4        12.614201\n",
       "           ...    \n",
       "4788    142.080002\n",
       "4789    142.998001\n",
       "4790    145.570007\n",
       "4791    147.050003\n",
       "4792    148.429993\n",
       "Name: Price, Length: 4793, dtype: float64"
      ]
     },
     "execution_count": 5,
     "metadata": {},
     "output_type": "execute_result"
    }
   ],
   "source": [
    "google + 10"
   ]
  },
  {
   "cell_type": "code",
   "execution_count": 6,
   "id": "62d7b1ba-0ca8-4cfd-89f1-8c1a9b46a489",
   "metadata": {},
   "outputs": [
    {
     "data": {
      "text/plain": [
       "0       -27.509336\n",
       "1       -27.484180\n",
       "2       -27.241589\n",
       "3       -27.229385\n",
       "4       -27.385799\n",
       "           ...    \n",
       "4788    102.080002\n",
       "4789    102.998001\n",
       "4790    105.570007\n",
       "4791    107.050003\n",
       "4792    108.429993\n",
       "Name: Price, Length: 4793, dtype: float64"
      ]
     },
     "execution_count": 6,
     "metadata": {},
     "output_type": "execute_result"
    }
   ],
   "source": [
    "google.sub(30)"
   ]
  },
  {
   "cell_type": "code",
   "execution_count": 7,
   "id": "8820f4b8-96bf-42c3-9c67-330bc221cb3e",
   "metadata": {},
   "outputs": [
    {
     "data": {
      "text/plain": [
       "0       -27.509336\n",
       "1       -27.484180\n",
       "2       -27.241589\n",
       "3       -27.229385\n",
       "4       -27.385799\n",
       "           ...    \n",
       "4788    102.080002\n",
       "4789    102.998001\n",
       "4790    105.570007\n",
       "4791    107.050003\n",
       "4792    108.429993\n",
       "Name: Price, Length: 4793, dtype: float64"
      ]
     },
     "execution_count": 7,
     "metadata": {},
     "output_type": "execute_result"
    }
   ],
   "source": [
    "google - 30"
   ]
  },
  {
   "cell_type": "code",
   "execution_count": 8,
   "id": "84082955-5b2a-4a03-a1bc-ddea17fbc222",
   "metadata": {},
   "outputs": [
    {
     "data": {
      "text/plain": [
       "0         3.113330\n",
       "1         3.144775\n",
       "2         3.448014\n",
       "3         3.463269\n",
       "4         3.267751\n",
       "           ...    \n",
       "4788    165.100003\n",
       "4789    166.247501\n",
       "4790    169.462509\n",
       "4791    171.312504\n",
       "4792    173.037491\n",
       "Name: Price, Length: 4793, dtype: float64"
      ]
     },
     "execution_count": 8,
     "metadata": {},
     "output_type": "execute_result"
    }
   ],
   "source": [
    "google.mul(1.25)"
   ]
  },
  {
   "cell_type": "code",
   "execution_count": 9,
   "id": "7dc8df61-a1c0-4606-9d26-7f4dcc6e550f",
   "metadata": {},
   "outputs": [
    {
     "data": {
      "text/plain": [
       "0         3.113330\n",
       "1         3.144775\n",
       "2         3.448014\n",
       "3         3.463269\n",
       "4         3.267751\n",
       "           ...    \n",
       "4788    165.100003\n",
       "4789    166.247501\n",
       "4790    169.462509\n",
       "4791    171.312504\n",
       "4792    173.037491\n",
       "Name: Price, Length: 4793, dtype: float64"
      ]
     },
     "execution_count": 9,
     "metadata": {},
     "output_type": "execute_result"
    }
   ],
   "source": [
    "google * 1.25"
   ]
  },
  {
   "cell_type": "code",
   "execution_count": 10,
   "id": "f7430a5f-3cad-49c1-ab25-63fc024dbdd9",
   "metadata": {},
   "outputs": [
    {
     "data": {
      "text/plain": [
       "0        1.245332\n",
       "1        1.257910\n",
       "2        1.379206\n",
       "3        1.385307\n",
       "4        1.307100\n",
       "          ...    \n",
       "4788    66.040001\n",
       "4789    66.499000\n",
       "4790    67.785004\n",
       "4791    68.525002\n",
       "4792    69.214996\n",
       "Name: Price, Length: 4793, dtype: float64"
      ]
     },
     "execution_count": 10,
     "metadata": {},
     "output_type": "execute_result"
    }
   ],
   "source": [
    "google.div(2)"
   ]
  },
  {
   "cell_type": "code",
   "execution_count": 11,
   "id": "05edb58d-2111-445b-b6f7-2cb03a943c29",
   "metadata": {},
   "outputs": [
    {
     "data": {
      "text/plain": [
       "0        1.245332\n",
       "1        1.257910\n",
       "2        1.379206\n",
       "3        1.385307\n",
       "4        1.307100\n",
       "          ...    \n",
       "4788    66.040001\n",
       "4789    66.499000\n",
       "4790    67.785004\n",
       "4791    68.525002\n",
       "4792    69.214996\n",
       "Name: Price, Length: 4793, dtype: float64"
      ]
     },
     "execution_count": 11,
     "metadata": {},
     "output_type": "execute_result"
    }
   ],
   "source": [
    "google / 2"
   ]
  },
  {
   "cell_type": "code",
   "execution_count": 12,
   "id": "51d6fdf6-e102-4bbd-a2ee-4eaaa0422a66",
   "metadata": {},
   "outputs": [
    {
     "data": {
      "text/plain": [
       "0         8.490664\n",
       "1         8.515820\n",
       "2         8.758411\n",
       "3         8.770615\n",
       "4         8.614201\n",
       "           ...    \n",
       "4788    138.080002\n",
       "4789    138.998001\n",
       "4790    141.570007\n",
       "4791    143.050003\n",
       "4792    144.429993\n",
       "Name: Price, Length: 4793, dtype: float64"
      ]
     },
     "execution_count": 12,
     "metadata": {},
     "output_type": "execute_result"
    }
   ],
   "source": [
    "google + (2*3)\n"
   ]
  },
  {
   "cell_type": "code",
   "execution_count": null,
   "id": "c953ee7f-dd48-4704-963c-3f9db9d5e234",
   "metadata": {},
   "outputs": [],
   "source": []
  }
 ],
 "metadata": {
  "kernelspec": {
   "display_name": "Python 3 (ipykernel)",
   "language": "python",
   "name": "python3"
  },
  "language_info": {
   "codemirror_mode": {
    "name": "ipython",
    "version": 3
   },
   "file_extension": ".py",
   "mimetype": "text/x-python",
   "name": "python",
   "nbconvert_exporter": "python",
   "pygments_lexer": "ipython3",
   "version": "3.10.7"
  }
 },
 "nbformat": 4,
 "nbformat_minor": 5
}
