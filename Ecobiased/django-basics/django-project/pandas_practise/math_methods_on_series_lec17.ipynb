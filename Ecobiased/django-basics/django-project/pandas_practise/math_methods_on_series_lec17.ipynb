{
 "cells": [
  {
   "cell_type": "code",
   "execution_count": 1,
   "id": "28ae01d4-20c5-4fd6-bfa5-85e685d6441b",
   "metadata": {},
   "outputs": [
    {
     "name": "stderr",
     "output_type": "stream",
     "text": [
      "C:\\Users\\user\\AppData\\Local\\Temp\\ipykernel_21840\\4080736814.py:1: DeprecationWarning: \n",
      "Pyarrow will become a required dependency of pandas in the next major release of pandas (pandas 3.0),\n",
      "(to allow more performant data types, such as the Arrow string type, and better interoperability with other libraries)\n",
      "but was not found to be installed on your system.\n",
      "If this would cause problems for you,\n",
      "please provide us feedback at https://github.com/pandas-dev/pandas/issues/54466\n",
      "        \n",
      "  import pandas as pd\n"
     ]
    }
   ],
   "source": [
    "import pandas as pd"
   ]
  },
  {
   "cell_type": "code",
   "execution_count": 3,
   "id": "97aa1f7e-2f8a-4984-9dc5-6207a6921044",
   "metadata": {},
   "outputs": [],
   "source": [
    "google = pd.read_csv('input_file/google_stock_price.csv', usecols=[\"Price\"]).squeeze(\"columns\")"
   ]
  },
  {
   "cell_type": "code",
   "execution_count": 4,
   "id": "5beb9713-4d73-4df7-a3e0-9078dbed9c9d",
   "metadata": {},
   "outputs": [
    {
     "data": {
      "text/plain": [
       "0    2.490664\n",
       "1    2.515820\n",
       "2    2.758411\n",
       "3    2.770615\n",
       "4    2.614201\n",
       "Name: Price, dtype: float64"
      ]
     },
     "execution_count": 4,
     "metadata": {},
     "output_type": "execute_result"
    }
   ],
   "source": [
    "google.head()"
   ]
  },
  {
   "cell_type": "code",
   "execution_count": 5,
   "id": "12a60fcc-e66e-4f41-8c1c-31c038216a05",
   "metadata": {},
   "outputs": [
    {
     "data": {
      "text/plain": [
       "4793"
      ]
     },
     "execution_count": 5,
     "metadata": {},
     "output_type": "execute_result"
    }
   ],
   "source": [
    "google.count()"
   ]
  },
  {
   "cell_type": "code",
   "execution_count": 6,
   "id": "d292f58e-be71-46be-8735-1b7f9cf5060c",
   "metadata": {},
   "outputs": [
    {
     "data": {
      "text/plain": [
       "192733.129338"
      ]
     },
     "execution_count": 6,
     "metadata": {},
     "output_type": "execute_result"
    }
   ],
   "source": [
    "google.sum()"
   ]
  },
  {
   "cell_type": "code",
   "execution_count": 7,
   "id": "5a2bdba3-5755-4d72-a76d-c900dd7d07dd",
   "metadata": {},
   "outputs": [
    {
     "name": "stderr",
     "output_type": "stream",
     "text": [
      "D:\\python-django-learning\\Ecobiased\\django-basics\\django-project\\myenv\\lib\\site-packages\\numpy\\core\\_methods.py:53: RuntimeWarning: overflow encountered in reduce\n",
      "  return umr_prod(a, axis, dtype, out, keepdims, initial, where)\n"
     ]
    },
    {
     "data": {
      "text/plain": [
       "inf"
      ]
     },
     "execution_count": 7,
     "metadata": {},
     "output_type": "execute_result"
    }
   ],
   "source": [
    "google.product()"
   ]
  },
  {
   "cell_type": "code",
   "execution_count": 8,
   "id": "e90a024b-7c4c-48ef-8ec0-1f80139bc26f",
   "metadata": {},
   "outputs": [
    {
     "data": {
      "text/plain": [
       "24"
      ]
     },
     "execution_count": 8,
     "metadata": {},
     "output_type": "execute_result"
    }
   ],
   "source": [
    "pd.Series([1, 2, 3, 4]).product()"
   ]
  },
  {
   "cell_type": "code",
   "execution_count": 9,
   "id": "69a69a98-5ad1-45e7-b2b6-e9b049a7dbfe",
   "metadata": {},
   "outputs": [
    {
     "data": {
      "text/plain": [
       "40.211376870018775"
      ]
     },
     "execution_count": 9,
     "metadata": {},
     "output_type": "execute_result"
    }
   ],
   "source": [
    "google.mean()"
   ]
  },
  {
   "cell_type": "code",
   "execution_count": 10,
   "id": "4137e623-d6fd-40ec-8625-9d40ab5655c2",
   "metadata": {},
   "outputs": [
    {
     "data": {
      "text/plain": [
       "37.274752943868094"
      ]
     },
     "execution_count": 10,
     "metadata": {},
     "output_type": "execute_result"
    }
   ],
   "source": [
    "google.std()"
   ]
  },
  {
   "cell_type": "code",
   "execution_count": 11,
   "id": "167cbaed-12ce-4d8c-ab58-7fdd2ca9e0ec",
   "metadata": {},
   "outputs": [
    {
     "data": {
      "text/plain": [
       "2.47049"
      ]
     },
     "execution_count": 11,
     "metadata": {},
     "output_type": "execute_result"
    }
   ],
   "source": [
    "google.min()"
   ]
  },
  {
   "cell_type": "code",
   "execution_count": 12,
   "id": "32345abd-41fd-489e-8971-ed767e3f0726",
   "metadata": {},
   "outputs": [
    {
     "data": {
      "text/plain": [
       "151.863495"
      ]
     },
     "execution_count": 12,
     "metadata": {},
     "output_type": "execute_result"
    }
   ],
   "source": [
    "google.max()"
   ]
  },
  {
   "cell_type": "code",
   "execution_count": 13,
   "id": "3f3dbe79-9a5e-45f1-b48f-ee84fbbbf51b",
   "metadata": {},
   "outputs": [
    {
     "data": {
      "text/plain": [
       "26.327717"
      ]
     },
     "execution_count": 13,
     "metadata": {},
     "output_type": "execute_result"
    }
   ],
   "source": [
    "google.median()"
   ]
  },
  {
   "cell_type": "code",
   "execution_count": 14,
   "id": "12f16550-0bb3-4822-8019-3892f6a014f8",
   "metadata": {},
   "outputs": [
    {
     "data": {
      "text/plain": [
       "0    14.719826\n",
       "1    49.000000\n",
       "Name: Price, dtype: float64"
      ]
     },
     "execution_count": 14,
     "metadata": {},
     "output_type": "execute_result"
    }
   ],
   "source": [
    "google.mode()"
   ]
  },
  {
   "cell_type": "code",
   "execution_count": 15,
   "id": "772cbf29-5f69-4a4a-b94e-1d304e61e6fe",
   "metadata": {},
   "outputs": [
    {
     "data": {
      "text/plain": [
       "0    2\n",
       "dtype: int64"
      ]
     },
     "execution_count": 15,
     "metadata": {},
     "output_type": "execute_result"
    }
   ],
   "source": [
    "pd.Series([1,2, 2, 2, 3]).mode()"
   ]
  },
  {
   "cell_type": "code",
   "execution_count": 16,
   "id": "fd6e3f24-fea1-4495-a121-6e9ac1dca762",
   "metadata": {},
   "outputs": [
    {
     "data": {
      "text/plain": [
       "count    4793.000000\n",
       "mean       40.211377\n",
       "std        37.274753\n",
       "min         2.470490\n",
       "25%        12.767395\n",
       "50%        26.327717\n",
       "75%        56.311001\n",
       "max       151.863495\n",
       "Name: Price, dtype: float64"
      ]
     },
     "execution_count": 16,
     "metadata": {},
     "output_type": "execute_result"
    }
   ],
   "source": [
    "google.describe()"
   ]
  },
  {
   "cell_type": "code",
   "execution_count": null,
   "id": "f43351db-f1ec-43ae-a5f4-0de2a9a4aecd",
   "metadata": {},
   "outputs": [],
   "source": []
  }
 ],
 "metadata": {
  "kernelspec": {
   "display_name": "Python 3 (ipykernel)",
   "language": "python",
   "name": "python3"
  },
  "language_info": {
   "codemirror_mode": {
    "name": "ipython",
    "version": 3
   },
   "file_extension": ".py",
   "mimetype": "text/x-python",
   "name": "python",
   "nbconvert_exporter": "python",
   "pygments_lexer": "ipython3",
   "version": "3.10.7"
  }
 },
 "nbformat": 4,
 "nbformat_minor": 5
}
