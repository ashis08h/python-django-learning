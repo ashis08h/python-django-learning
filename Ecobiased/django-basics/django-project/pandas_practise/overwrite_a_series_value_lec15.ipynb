{
 "cells": [
  {
   "cell_type": "code",
   "execution_count": 1,
   "id": "02b166d6-2832-45cc-a96d-3b61d546d1be",
   "metadata": {},
   "outputs": [
    {
     "name": "stderr",
     "output_type": "stream",
     "text": [
      "C:\\Users\\user\\AppData\\Local\\Temp\\ipykernel_18480\\4080736814.py:1: DeprecationWarning: \n",
      "Pyarrow will become a required dependency of pandas in the next major release of pandas (pandas 3.0),\n",
      "(to allow more performant data types, such as the Arrow string type, and better interoperability with other libraries)\n",
      "but was not found to be installed on your system.\n",
      "If this would cause problems for you,\n",
      "please provide us feedback at https://github.com/pandas-dev/pandas/issues/54466\n",
      "        \n",
      "  import pandas as pd\n"
     ]
    }
   ],
   "source": [
    "import pandas as pd"
   ]
  },
  {
   "cell_type": "code",
   "execution_count": 5,
   "id": "ddcb6e2e-764a-4d4e-8869-896f31904510",
   "metadata": {},
   "outputs": [],
   "source": [
    "pokemon = pd.read_csv(\"input_file/pokemon.csv\", usecols=[\"Name\"]).squeeze(\"columns\")"
   ]
  },
  {
   "cell_type": "code",
   "execution_count": 6,
   "id": "371750d4-309b-479b-b36e-a50836a9e248",
   "metadata": {},
   "outputs": [
    {
     "data": {
      "text/plain": [
       "0          Bulbasaur\n",
       "1            Ivysaur\n",
       "2           Venusaur\n",
       "3         Charmander\n",
       "4         Charmeleon\n",
       "            ...     \n",
       "1005    Iron Valiant\n",
       "1006        Koraidon\n",
       "1007        Miraidon\n",
       "1008    Walking Wake\n",
       "1009     Iron Leaves\n",
       "Name: Name, Length: 1010, dtype: object"
      ]
     },
     "execution_count": 6,
     "metadata": {},
     "output_type": "execute_result"
    }
   ],
   "source": [
    "pokemon"
   ]
  },
  {
   "cell_type": "code",
   "execution_count": 7,
   "id": "29779882-9e93-4156-8d06-595f442563e7",
   "metadata": {},
   "outputs": [
    {
     "data": {
      "text/plain": [
       "'Bulbasaur'"
      ]
     },
     "execution_count": 7,
     "metadata": {},
     "output_type": "execute_result"
    }
   ],
   "source": [
    "pokemon.iloc[0]"
   ]
  },
  {
   "cell_type": "code",
   "execution_count": 8,
   "id": "5b998aa7-e45b-44f8-a1e8-74450becc766",
   "metadata": {},
   "outputs": [],
   "source": [
    "pokemon.iloc[0] = \"Borisaur\""
   ]
  },
  {
   "cell_type": "code",
   "execution_count": 9,
   "id": "1c0c00b6-20df-4fba-887a-552499444a7b",
   "metadata": {},
   "outputs": [
    {
     "data": {
      "text/plain": [
       "0      Borisaur\n",
       "1       Ivysaur\n",
       "2      Venusaur\n",
       "3    Charmander\n",
       "4    Charmeleon\n",
       "Name: Name, dtype: object"
      ]
     },
     "execution_count": 9,
     "metadata": {},
     "output_type": "execute_result"
    }
   ],
   "source": [
    "pokemon.head()"
   ]
  },
  {
   "cell_type": "code",
   "execution_count": 10,
   "id": "e2240599-4973-4248-bf29-3fb89b1dbdf7",
   "metadata": {},
   "outputs": [
    {
     "data": {
      "text/plain": [
       "1       Ivysaur\n",
       "2      Venusaur\n",
       "3    Charmander\n",
       "Name: Name, dtype: object"
      ]
     },
     "execution_count": 10,
     "metadata": {},
     "output_type": "execute_result"
    }
   ],
   "source": [
    "pokemon.iloc[[1, 2, 3]]"
   ]
  },
  {
   "cell_type": "code",
   "execution_count": 11,
   "id": "22872de9-724b-4d90-8e04-30b7ac7a5f1f",
   "metadata": {},
   "outputs": [],
   "source": [
    "pokemon.iloc[[1, 2, 3]] = [\"Firemon\", \"Flamemon\", \"Blazemon\"]"
   ]
  },
  {
   "cell_type": "code",
   "execution_count": 12,
   "id": "a2825912-d1ec-46c3-a616-d12c51186885",
   "metadata": {},
   "outputs": [
    {
     "data": {
      "text/plain": [
       "0           Borisaur\n",
       "1            Firemon\n",
       "2           Flamemon\n",
       "3           Blazemon\n",
       "4         Charmeleon\n",
       "            ...     \n",
       "1005    Iron Valiant\n",
       "1006        Koraidon\n",
       "1007        Miraidon\n",
       "1008    Walking Wake\n",
       "1009     Iron Leaves\n",
       "Name: Name, Length: 1010, dtype: object"
      ]
     },
     "execution_count": 12,
     "metadata": {},
     "output_type": "execute_result"
    }
   ],
   "source": [
    "pokemon"
   ]
  },
  {
   "cell_type": "code",
   "execution_count": 13,
   "id": "a6aaaf1b-2ad0-40e9-827b-c2ae9eba88f5",
   "metadata": {},
   "outputs": [],
   "source": [
    "pokemon = pd.read_csv(\"input_file/pokemon.csv\", index_col=\"Name\").squeeze(\"columns\")"
   ]
  },
  {
   "cell_type": "code",
   "execution_count": 14,
   "id": "454f0396-a68a-47cb-b1ab-b4d66923d6c9",
   "metadata": {},
   "outputs": [
    {
     "data": {
      "text/plain": [
       "Name\n",
       "Bulbasaur     Grass, Poison\n",
       "Ivysaur       Grass, Poison\n",
       "Venusaur      Grass, Poison\n",
       "Charmander             Fire\n",
       "Charmeleon             Fire\n",
       "Name: Type, dtype: object"
      ]
     },
     "execution_count": 14,
     "metadata": {},
     "output_type": "execute_result"
    }
   ],
   "source": [
    "pokemon.head()"
   ]
  },
  {
   "cell_type": "code",
   "execution_count": 15,
   "id": "a12f2871-1bd1-43f6-8ce2-f20d8fe24362",
   "metadata": {},
   "outputs": [],
   "source": [
    "pokemon.loc[\"Bulbasaur\"] = \"Awesomeness\""
   ]
  },
  {
   "cell_type": "code",
   "execution_count": 16,
   "id": "8d7d3d6d-b4e5-4620-8966-7d57568812b8",
   "metadata": {},
   "outputs": [
    {
     "data": {
      "text/plain": [
       "Name\n",
       "Bulbasaur            Awesomeness\n",
       "Ivysaur            Grass, Poison\n",
       "Venusaur           Grass, Poison\n",
       "Charmander                  Fire\n",
       "Charmeleon                  Fire\n",
       "                      ...       \n",
       "Iron Valiant     Fairy, Fighting\n",
       "Koraidon        Fighting, Dragon\n",
       "Miraidon        Electric, Dragon\n",
       "Walking Wake       Water, Dragon\n",
       "Iron Leaves       Grass, Psychic\n",
       "Name: Type, Length: 1010, dtype: object"
      ]
     },
     "execution_count": 16,
     "metadata": {},
     "output_type": "execute_result"
    }
   ],
   "source": [
    "pokemon"
   ]
  },
  {
   "cell_type": "code",
   "execution_count": 17,
   "id": "8b3b027f-76b9-4bf2-9582-e52a973d5010",
   "metadata": {},
   "outputs": [],
   "source": [
    "pokemon.iloc[1] = \"Silly\""
   ]
  },
  {
   "cell_type": "code",
   "execution_count": 18,
   "id": "d5571715-81c7-4775-a547-5053710303b6",
   "metadata": {},
   "outputs": [
    {
     "data": {
      "text/plain": [
       "Name\n",
       "Bulbasaur            Awesomeness\n",
       "Ivysaur                    Silly\n",
       "Venusaur           Grass, Poison\n",
       "Charmander                  Fire\n",
       "Charmeleon                  Fire\n",
       "                      ...       \n",
       "Iron Valiant     Fairy, Fighting\n",
       "Koraidon        Fighting, Dragon\n",
       "Miraidon        Electric, Dragon\n",
       "Walking Wake       Water, Dragon\n",
       "Iron Leaves       Grass, Psychic\n",
       "Name: Type, Length: 1010, dtype: object"
      ]
     },
     "execution_count": 18,
     "metadata": {},
     "output_type": "execute_result"
    }
   ],
   "source": [
    "pokemon"
   ]
  },
  {
   "cell_type": "code",
   "execution_count": null,
   "id": "a87b8c2d-e66e-439c-9562-7fa60cb3ca39",
   "metadata": {},
   "outputs": [],
   "source": []
  }
 ],
 "metadata": {
  "kernelspec": {
   "display_name": "Python 3 (ipykernel)",
   "language": "python",
   "name": "python3"
  },
  "language_info": {
   "codemirror_mode": {
    "name": "ipython",
    "version": 3
   },
   "file_extension": ".py",
   "mimetype": "text/x-python",
   "name": "python",
   "nbconvert_exporter": "python",
   "pygments_lexer": "ipython3",
   "version": "3.10.7"
  }
 },
 "nbformat": 4,
 "nbformat_minor": 5
}
