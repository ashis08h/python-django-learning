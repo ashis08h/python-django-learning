{
 "cells": [
  {
   "cell_type": "code",
   "execution_count": 6,
   "id": "efa5617b-7067-47dd-874f-ca0f09c05692",
   "metadata": {},
   "outputs": [],
   "source": [
    "import pandas as pd"
   ]
  },
  {
   "cell_type": "code",
   "execution_count": 7,
   "id": "9bd63eeb-ee32-449b-a9d4-2cc045245da3",
   "metadata": {},
   "outputs": [],
   "source": [
    "pokemon = pd.read_csv('input_file/pokemon.csv', index_col=\"Name\").squeeze(\"columns\")"
   ]
  },
  {
   "cell_type": "code",
   "execution_count": 8,
   "id": "12c2ffc4-86b2-4778-a7b9-79c3c7f895c1",
   "metadata": {},
   "outputs": [
    {
     "data": {
      "text/plain": [
       "Name\n",
       "Bulbasaur          Grass, Poison\n",
       "Ivysaur            Grass, Poison\n",
       "Venusaur           Grass, Poison\n",
       "Charmander                  Fire\n",
       "Charmeleon                  Fire\n",
       "                      ...       \n",
       "Iron Valiant     Fairy, Fighting\n",
       "Koraidon        Fighting, Dragon\n",
       "Miraidon        Electric, Dragon\n",
       "Walking Wake       Water, Dragon\n",
       "Iron Leaves       Grass, Psychic\n",
       "Name: Type, Length: 1010, dtype: object"
      ]
     },
     "execution_count": 8,
     "metadata": {},
     "output_type": "execute_result"
    }
   ],
   "source": [
    "pokemon"
   ]
  },
  {
   "cell_type": "code",
   "execution_count": 11,
   "id": "f7e67778-6a4c-43b2-ba2b-c2bfe39679bd",
   "metadata": {},
   "outputs": [],
   "source": [
    "attack_powers = {\n",
    "    \"Grass\": 10,\n",
    "    \"Fire\": 15,\n",
    "    \"Water\": 15,\n",
    "    \"Fairy, Fighting\": 20,\n",
    "    \"Grass Psychic\": 50\n",
    "}\n",
    "attack_powers = pd.Series(attack_powers)"
   ]
  },
  {
   "cell_type": "code",
   "execution_count": 12,
   "id": "3a6b564b-a151-4212-86a5-93d14d42a7df",
   "metadata": {},
   "outputs": [
    {
     "data": {
      "text/plain": [
       "Name\n",
       "Bulbasaur        NaN\n",
       "Ivysaur          NaN\n",
       "Venusaur         NaN\n",
       "Charmander      15.0\n",
       "Charmeleon      15.0\n",
       "                ... \n",
       "Iron Valiant    20.0\n",
       "Koraidon         NaN\n",
       "Miraidon         NaN\n",
       "Walking Wake     NaN\n",
       "Iron Leaves      NaN\n",
       "Name: Type, Length: 1010, dtype: float64"
      ]
     },
     "execution_count": 12,
     "metadata": {},
     "output_type": "execute_result"
    }
   ],
   "source": [
    "pokemon.map(attack_powers)"
   ]
  },
  {
   "cell_type": "code",
   "execution_count": null,
   "id": "8efe889f-44aa-4718-a00b-cc2f7eb71ddf",
   "metadata": {},
   "outputs": [],
   "source": []
  }
 ],
 "metadata": {
  "kernelspec": {
   "display_name": "Python 3 (ipykernel)",
   "language": "python",
   "name": "python3"
  },
  "language_info": {
   "codemirror_mode": {
    "name": "ipython",
    "version": 3
   },
   "file_extension": ".py",
   "mimetype": "text/x-python",
   "name": "python",
   "nbconvert_exporter": "python",
   "pygments_lexer": "ipython3",
   "version": "3.10.7"
  }
 },
 "nbformat": 4,
 "nbformat_minor": 5
}
