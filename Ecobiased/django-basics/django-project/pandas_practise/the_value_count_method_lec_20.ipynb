{
 "cells": [
  {
   "cell_type": "code",
   "execution_count": 1,
   "id": "d28ae3ab-e929-4cc1-843b-74796a5ea980",
   "metadata": {},
   "outputs": [
    {
     "name": "stderr",
     "output_type": "stream",
     "text": [
      "C:\\Users\\user\\AppData\\Local\\Temp\\ipykernel_11060\\4080736814.py:1: DeprecationWarning: \n",
      "Pyarrow will become a required dependency of pandas in the next major release of pandas (pandas 3.0),\n",
      "(to allow more performant data types, such as the Arrow string type, and better interoperability with other libraries)\n",
      "but was not found to be installed on your system.\n",
      "If this would cause problems for you,\n",
      "please provide us feedback at https://github.com/pandas-dev/pandas/issues/54466\n",
      "        \n",
      "  import pandas as pd\n"
     ]
    }
   ],
   "source": [
    "import pandas as pd"
   ]
  },
  {
   "cell_type": "code",
   "execution_count": 2,
   "id": "9938bccf-18a0-4fa1-84b5-2c093d1d00d1",
   "metadata": {},
   "outputs": [],
   "source": [
    "pokemon = pd.read_csv('input_file/pokemon.csv', index_col=\"Name\").squeeze(\"columns\")"
   ]
  },
  {
   "cell_type": "code",
   "execution_count": 3,
   "id": "712fb5fb-6bb2-4ec7-b2f7-88c8923e4867",
   "metadata": {},
   "outputs": [
    {
     "data": {
      "text/plain": [
       "Name\n",
       "Bulbasaur     Grass, Poison\n",
       "Ivysaur       Grass, Poison\n",
       "Venusaur      Grass, Poison\n",
       "Charmander             Fire\n",
       "Charmeleon             Fire\n",
       "Name: Type, dtype: object"
      ]
     },
     "execution_count": 3,
     "metadata": {},
     "output_type": "execute_result"
    }
   ],
   "source": [
    "pokemon.head()"
   ]
  },
  {
   "cell_type": "code",
   "execution_count": 4,
   "id": "f2487814-e5b6-4f67-9cf7-eba622f0eaa2",
   "metadata": {},
   "outputs": [
    {
     "data": {
      "text/plain": [
       "Type\n",
       "Water               74\n",
       "Normal              74\n",
       "Grass               46\n",
       "Psychic             39\n",
       "Fire                36\n",
       "                    ..\n",
       "Fighting, Ice        1\n",
       "Fire, Dragon         1\n",
       "Normal, Dragon       1\n",
       "Psychic, Steel       1\n",
       "Fighting, Dragon     1\n",
       "Name: count, Length: 200, dtype: int64"
      ]
     },
     "execution_count": 4,
     "metadata": {},
     "output_type": "execute_result"
    }
   ],
   "source": [
    "pokemon.value_counts()"
   ]
  },
  {
   "cell_type": "code",
   "execution_count": 5,
   "id": "c24bec3e-487c-4059-9a04-3acc595ccea6",
   "metadata": {},
   "outputs": [
    {
     "data": {
      "text/plain": [
       "Type\n",
       "Ice, Ghost           1\n",
       "Fire, Water          1\n",
       "Fighting, Flying     1\n",
       "Normal, Ground       1\n",
       "Dragon, Electric     1\n",
       "                    ..\n",
       "Fire                36\n",
       "Psychic             39\n",
       "Grass               46\n",
       "Normal              74\n",
       "Water               74\n",
       "Name: count, Length: 200, dtype: int64"
      ]
     },
     "execution_count": 5,
     "metadata": {},
     "output_type": "execute_result"
    }
   ],
   "source": [
    "pokemon.value_counts(ascending=True)"
   ]
  },
  {
   "cell_type": "code",
   "execution_count": 6,
   "id": "15585e3d-41d3-4de5-b54e-e396465924cd",
   "metadata": {},
   "outputs": [
    {
     "data": {
      "text/plain": [
       "Type\n",
       "Water               0.073267\n",
       "Normal              0.073267\n",
       "Grass               0.045545\n",
       "Psychic             0.038614\n",
       "Fire                0.035644\n",
       "                      ...   \n",
       "Fighting, Ice       0.000990\n",
       "Fire, Dragon        0.000990\n",
       "Normal, Dragon      0.000990\n",
       "Psychic, Steel      0.000990\n",
       "Fighting, Dragon    0.000990\n",
       "Name: proportion, Length: 200, dtype: float64"
      ]
     },
     "execution_count": 6,
     "metadata": {},
     "output_type": "execute_result"
    }
   ],
   "source": [
    "pokemon.value_counts(normalize=True)"
   ]
  },
  {
   "cell_type": "code",
   "execution_count": 7,
   "id": "bc7413f0-f252-4737-90b5-bf7ec5da4228",
   "metadata": {},
   "outputs": [
    {
     "data": {
      "text/plain": [
       "Type\n",
       "Water               7.326733\n",
       "Normal              7.326733\n",
       "Grass               4.554455\n",
       "Psychic             3.861386\n",
       "Fire                3.564356\n",
       "                      ...   \n",
       "Fighting, Ice       0.099010\n",
       "Fire, Dragon        0.099010\n",
       "Normal, Dragon      0.099010\n",
       "Psychic, Steel      0.099010\n",
       "Fighting, Dragon    0.099010\n",
       "Name: proportion, Length: 200, dtype: float64"
      ]
     },
     "execution_count": 7,
     "metadata": {},
     "output_type": "execute_result"
    }
   ],
   "source": [
    "pokemon.value_counts(normalize=True) * 100"
   ]
  },
  {
   "cell_type": "code",
   "execution_count": null,
   "id": "22689ddd-3606-4008-8231-b03a05d26abd",
   "metadata": {},
   "outputs": [],
   "source": []
  }
 ],
 "metadata": {
  "kernelspec": {
   "display_name": "Python 3 (ipykernel)",
   "language": "python",
   "name": "python3"
  },
  "language_info": {
   "codemirror_mode": {
    "name": "ipython",
    "version": 3
   },
   "file_extension": ".py",
   "mimetype": "text/x-python",
   "name": "python",
   "nbconvert_exporter": "python",
   "pygments_lexer": "ipython3",
   "version": "3.10.7"
  }
 },
 "nbformat": 4,
 "nbformat_minor": 5
}
